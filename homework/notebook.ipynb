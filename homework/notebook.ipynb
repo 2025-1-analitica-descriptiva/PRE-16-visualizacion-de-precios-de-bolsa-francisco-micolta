{
 "cells": [
  {
   "cell_type": "code",
   "execution_count": 3,
   "id": "84c7cc9f",
   "metadata": {},
   "outputs": [
    {
     "data": {
      "text/plain": [
       "('199507', '202104', 310)"
      ]
     },
     "execution_count": 3,
     "metadata": {},
     "output_type": "execute_result"
    }
   ],
   "source": [
    "# %%\n",
    "# Creación del vector de fechas\n",
    "fechas = [\n",
    "    \"{:4d}{:02d}\".format(year, month)\n",
    "    for year in range(1995, 2022)\n",
    "    for month in range(1, 13)\n",
    "]\n",
    "fechas = [fecha for fecha in fechas if fecha >= \"199507\" and fecha <= \"202104\"]\n",
    "fechas[0], fechas[-1], len(fechas)\n"
   ]
  },
  {
   "cell_type": "code",
   "execution_count": 7,
   "id": "d429bba0",
   "metadata": {},
   "outputs": [
    {
     "name": "stdout",
     "output_type": "stream",
     "text": [
      "Error descargando 201904: HTTP Error 429: Too Many Requests\n",
      "Error descargando 201911: HTTP Error 429: Too Many Requests\n"
     ]
    }
   ],
   "source": [
    "import os\n",
    "\n",
    "dataframes = []\n",
    "for fecha in fechas:\n",
    "    local_file = f\"{fecha}.csv\"\n",
    "    if not os.path.exists(local_file):\n",
    "        try:\n",
    "            df = pd.read_csv(url.format(fecha))\n",
    "            df.to_csv(local_file, index=False)\n",
    "            time.sleep(1)\n",
    "        except Exception as e:\n",
    "            print(f\"Error descargando {fecha}: {e}\")\n",
    "            continue\n",
    "    else:\n",
    "        df = pd.read_csv(local_file)\n",
    "    dataframes.append(df)\n",
    "\n",
    "org_df = pd.concat(dataframes)\n"
   ]
  },
  {
   "cell_type": "code",
   "execution_count": 9,
   "id": "ad2fad5f",
   "metadata": {},
   "outputs": [
    {
     "data": {
      "text/html": [
       "<div>\n",
       "<style scoped>\n",
       "    .dataframe tbody tr th:only-of-type {\n",
       "        vertical-align: middle;\n",
       "    }\n",
       "\n",
       "    .dataframe tbody tr th {\n",
       "        vertical-align: top;\n",
       "    }\n",
       "\n",
       "    .dataframe thead th {\n",
       "        text-align: right;\n",
       "    }\n",
       "</style>\n",
       "<table border=\"1\" class=\"dataframe\">\n",
       "  <thead>\n",
       "    <tr style=\"text-align: right;\">\n",
       "      <th></th>\n",
       "      <th>Fecha</th>\n",
       "      <th>Hora</th>\n",
       "      <th>Precio</th>\n",
       "    </tr>\n",
       "  </thead>\n",
       "  <tbody>\n",
       "    <tr>\n",
       "      <th>0</th>\n",
       "      <td>1995-07-21</td>\n",
       "      <td>0</td>\n",
       "      <td>1.073</td>\n",
       "    </tr>\n",
       "    <tr>\n",
       "      <th>1</th>\n",
       "      <td>1995-07-21</td>\n",
       "      <td>1</td>\n",
       "      <td>1.0</td>\n",
       "    </tr>\n",
       "    <tr>\n",
       "      <th>2</th>\n",
       "      <td>1995-07-21</td>\n",
       "      <td>10</td>\n",
       "      <td>6.0</td>\n",
       "    </tr>\n",
       "    <tr>\n",
       "      <th>3</th>\n",
       "      <td>1995-07-21</td>\n",
       "      <td>11</td>\n",
       "      <td>9.256</td>\n",
       "    </tr>\n",
       "    <tr>\n",
       "      <th>4</th>\n",
       "      <td>1995-07-21</td>\n",
       "      <td>12</td>\n",
       "      <td>9.256</td>\n",
       "    </tr>\n",
       "  </tbody>\n",
       "</table>\n",
       "</div>"
      ],
      "text/plain": [
       "        Fecha Hora Precio\n",
       "0  1995-07-21    0  1.073\n",
       "1  1995-07-21    1    1.0\n",
       "2  1995-07-21   10    6.0\n",
       "3  1995-07-21   11  9.256\n",
       "4  1995-07-21   12  9.256"
      ]
     },
     "execution_count": 9,
     "metadata": {},
     "output_type": "execute_result"
    }
   ],
   "source": [
    "#%%\n",
    "\n",
    "melted_df = pd.melt(\n",
    "    org_df,\n",
    "    id_vars=\"Fecha\",\n",
    "    var_name=\"Hora\",\n",
    "    value_name=\"Precio\",\n",
    ")\n",
    "melted_df = melted_df.sort_values([\"Fecha\", \"Hora\"]).reset_index(drop=True)\n",
    "melted_df.head()\n"
   ]
  },
  {
   "cell_type": "code",
   "execution_count": 10,
   "id": "0577ae69",
   "metadata": {},
   "outputs": [
    {
     "data": {
      "text/plain": [
       "Fecha     object\n",
       "Hora      object\n",
       "Precio    object\n",
       "dtype: object"
      ]
     },
     "execution_count": 10,
     "metadata": {},
     "output_type": "execute_result"
    }
   ],
   "source": [
    "# %%\n",
    "melted_df.dtypes"
   ]
  },
  {
   "cell_type": "code",
   "execution_count": 11,
   "id": "fc6a741b",
   "metadata": {},
   "outputs": [
    {
     "data": {
      "text/plain": [
       "np.int64(21)"
      ]
     },
     "execution_count": 11,
     "metadata": {},
     "output_type": "execute_result"
    }
   ],
   "source": [
    "# %%\n",
    "melted_df.Precio.isna().sum()\n"
   ]
  },
  {
   "cell_type": "code",
   "execution_count": 12,
   "id": "ac8ecb32",
   "metadata": {},
   "outputs": [
    {
     "data": {
      "text/plain": [
       "(227088, 3)"
      ]
     },
     "execution_count": 12,
     "metadata": {},
     "output_type": "execute_result"
    }
   ],
   "source": [
    "# %%\n",
    "# Tamaño original del dataframe\n",
    "melted_df.shape\n"
   ]
  },
  {
   "cell_type": "code",
   "execution_count": 13,
   "id": "0de5b1c9",
   "metadata": {},
   "outputs": [
    {
     "data": {
      "text/plain": [
       "(227067, 3)"
      ]
     },
     "execution_count": 13,
     "metadata": {},
     "output_type": "execute_result"
    }
   ],
   "source": [
    "# %%\n",
    "# Eliminación de NA y tamaño final del dataframe\n",
    "melted_df = melted_df.dropna()\n",
    "melted_df.shape"
   ]
  },
  {
   "cell_type": "code",
   "execution_count": 14,
   "id": "6dcd042a",
   "metadata": {},
   "outputs": [
    {
     "data": {
      "text/html": [
       "<div>\n",
       "<style scoped>\n",
       "    .dataframe tbody tr th:only-of-type {\n",
       "        vertical-align: middle;\n",
       "    }\n",
       "\n",
       "    .dataframe tbody tr th {\n",
       "        vertical-align: top;\n",
       "    }\n",
       "\n",
       "    .dataframe thead th {\n",
       "        text-align: right;\n",
       "    }\n",
       "</style>\n",
       "<table border=\"1\" class=\"dataframe\">\n",
       "  <thead>\n",
       "    <tr style=\"text-align: right;\">\n",
       "      <th></th>\n",
       "      <th>Fecha</th>\n",
       "      <th>Hora</th>\n",
       "      <th>Precio</th>\n",
       "    </tr>\n",
       "  </thead>\n",
       "  <tbody>\n",
       "    <tr>\n",
       "      <th>179327</th>\n",
       "      <td>2015-09-25</td>\n",
       "      <td>9</td>\n",
       "      <td>1.004,81</td>\n",
       "    </tr>\n",
       "    <tr>\n",
       "      <th>179314</th>\n",
       "      <td>2015-09-25</td>\n",
       "      <td>18</td>\n",
       "      <td>1.004,81</td>\n",
       "    </tr>\n",
       "    <tr>\n",
       "      <th>179358</th>\n",
       "      <td>2015-09-27</td>\n",
       "      <td>14</td>\n",
       "      <td>1.014,81</td>\n",
       "    </tr>\n",
       "    <tr>\n",
       "      <th>179354</th>\n",
       "      <td>2015-09-27</td>\n",
       "      <td>10</td>\n",
       "      <td>1.014,81</td>\n",
       "    </tr>\n",
       "    <tr>\n",
       "      <th>179362</th>\n",
       "      <td>2015-09-27</td>\n",
       "      <td>18</td>\n",
       "      <td>1.014,81</td>\n",
       "    </tr>\n",
       "    <tr>\n",
       "      <th>...</th>\n",
       "      <td>...</td>\n",
       "      <td>...</td>\n",
       "      <td>...</td>\n",
       "    </tr>\n",
       "    <tr>\n",
       "      <th>179804</th>\n",
       "      <td>2015-10-15</td>\n",
       "      <td>6</td>\n",
       "      <td>990,52</td>\n",
       "    </tr>\n",
       "    <tr>\n",
       "      <th>179805</th>\n",
       "      <td>2015-10-15</td>\n",
       "      <td>7</td>\n",
       "      <td>990,52</td>\n",
       "    </tr>\n",
       "    <tr>\n",
       "      <th>179753</th>\n",
       "      <td>2015-10-13</td>\n",
       "      <td>3</td>\n",
       "      <td>990,52</td>\n",
       "    </tr>\n",
       "    <tr>\n",
       "      <th>179754</th>\n",
       "      <td>2015-10-13</td>\n",
       "      <td>4</td>\n",
       "      <td>990,52</td>\n",
       "    </tr>\n",
       "    <tr>\n",
       "      <th>179800</th>\n",
       "      <td>2015-10-15</td>\n",
       "      <td>23</td>\n",
       "      <td>990,52</td>\n",
       "    </tr>\n",
       "  </tbody>\n",
       "</table>\n",
       "<p>8760 rows × 3 columns</p>\n",
       "</div>"
      ],
      "text/plain": [
       "             Fecha Hora    Precio\n",
       "179327  2015-09-25    9  1.004,81\n",
       "179314  2015-09-25   18  1.004,81\n",
       "179358  2015-09-27   14  1.014,81\n",
       "179354  2015-09-27   10  1.014,81\n",
       "179362  2015-09-27   18  1.014,81\n",
       "...            ...  ...       ...\n",
       "179804  2015-10-15    6    990,52\n",
       "179805  2015-10-15    7    990,52\n",
       "179753  2015-10-13    3    990,52\n",
       "179754  2015-10-13    4    990,52\n",
       "179800  2015-10-15   23    990,52\n",
       "\n",
       "[8760 rows x 3 columns]"
      ]
     },
     "execution_count": 14,
     "metadata": {},
     "output_type": "execute_result"
    }
   ],
   "source": [
    "# %%\n",
    "# Búsqueda de registros con str en los precios\n",
    "melted_df[melted_df[\"Precio\"].map(lambda x: isinstance(x, str))].sort_values(\"Precio\")\n"
   ]
  },
  {
   "cell_type": "code",
   "execution_count": 15,
   "id": "6c233f30",
   "metadata": {},
   "outputs": [
    {
     "data": {
      "text/plain": [
       "Series([], Name: Precio, dtype: float64)"
      ]
     },
     "execution_count": 15,
     "metadata": {},
     "output_type": "execute_result"
    }
   ],
   "source": [
    "# %%\n",
    "# Se elimina el '.' de los miles\n",
    "melted_df[\"Precio\"] = melted_df[\"Precio\"].map(\n",
    "    lambda x: x.replace(\".\", \"\") if isinstance(x, str) else x\n",
    ")\n",
    "\n",
    "# Se reemplaza la ',' por '.'\n",
    "melted_df[\"Precio\"] = melted_df[\"Precio\"].map(\n",
    "    lambda x: float(x.replace(\",\", \".\")) if isinstance(x, str) else x\n",
    ")\n",
    "\n",
    "# Vefificación\n",
    "melted_df[\"Precio\"][melted_df[\"Precio\"].map(lambda x: isinstance(x, str))].sort_values()\n"
   ]
  },
  {
   "cell_type": "code",
   "execution_count": 16,
   "id": "8f9eb8e9",
   "metadata": {},
   "outputs": [
    {
     "data": {
      "text/plain": [
       "Fecha      object\n",
       "Hora       object\n",
       "Precio    float64\n",
       "dtype: object"
      ]
     },
     "execution_count": 16,
     "metadata": {},
     "output_type": "execute_result"
    }
   ],
   "source": [
    "# %%\n",
    "# Revisión de los tipos de datos\n",
    "melted_df.dtypes\n"
   ]
  },
  {
   "cell_type": "code",
   "execution_count": 17,
   "id": "2db53beb",
   "metadata": {},
   "outputs": [
    {
     "data": {
      "text/html": [
       "<div>\n",
       "<style scoped>\n",
       "    .dataframe tbody tr th:only-of-type {\n",
       "        vertical-align: middle;\n",
       "    }\n",
       "\n",
       "    .dataframe tbody tr th {\n",
       "        vertical-align: top;\n",
       "    }\n",
       "\n",
       "    .dataframe thead th {\n",
       "        text-align: right;\n",
       "    }\n",
       "</style>\n",
       "<table border=\"1\" class=\"dataframe\">\n",
       "  <thead>\n",
       "    <tr style=\"text-align: right;\">\n",
       "      <th></th>\n",
       "      <th>Precio diario</th>\n",
       "    </tr>\n",
       "    <tr>\n",
       "      <th>Fecha</th>\n",
       "      <th></th>\n",
       "    </tr>\n",
       "  </thead>\n",
       "  <tbody>\n",
       "    <tr>\n",
       "      <th>1995-07-21</th>\n",
       "      <td>4.924333</td>\n",
       "    </tr>\n",
       "    <tr>\n",
       "      <th>1995-07-22</th>\n",
       "      <td>1.269500</td>\n",
       "    </tr>\n",
       "    <tr>\n",
       "      <th>1995-07-23</th>\n",
       "      <td>0.953083</td>\n",
       "    </tr>\n",
       "    <tr>\n",
       "      <th>1995-07-24</th>\n",
       "      <td>4.305917</td>\n",
       "    </tr>\n",
       "    <tr>\n",
       "      <th>1995-07-25</th>\n",
       "      <td>1.149167</td>\n",
       "    </tr>\n",
       "  </tbody>\n",
       "</table>\n",
       "</div>"
      ],
      "text/plain": [
       "            Precio diario\n",
       "Fecha                    \n",
       "1995-07-21       4.924333\n",
       "1995-07-22       1.269500\n",
       "1995-07-23       0.953083\n",
       "1995-07-24       4.305917\n",
       "1995-07-25       1.149167"
      ]
     },
     "execution_count": 17,
     "metadata": {},
     "output_type": "execute_result"
    }
   ],
   "source": [
    "# %%\n",
    "# Cálculo de los precios diarios y renombramiento de la columna\n",
    "precios_df = melted_df.groupby([\"Fecha\"]).agg({\"Precio\": \"mean\"})\n",
    "precios_df = precios_df.rename(columns={\"Precio\": \"Precio diario\"})\n",
    "precios_df.head()\n"
   ]
  },
  {
   "cell_type": "code",
   "execution_count": 18,
   "id": "6d0bdaca",
   "metadata": {},
   "outputs": [
    {
     "data": {
      "text/html": [
       "<div>\n",
       "<style scoped>\n",
       "    .dataframe tbody tr th:only-of-type {\n",
       "        vertical-align: middle;\n",
       "    }\n",
       "\n",
       "    .dataframe tbody tr th {\n",
       "        vertical-align: top;\n",
       "    }\n",
       "\n",
       "    .dataframe thead th {\n",
       "        text-align: right;\n",
       "    }\n",
       "</style>\n",
       "<table border=\"1\" class=\"dataframe\">\n",
       "  <thead>\n",
       "    <tr style=\"text-align: right;\">\n",
       "      <th></th>\n",
       "      <th>Precio diario</th>\n",
       "      <th>Precio mensual</th>\n",
       "    </tr>\n",
       "    <tr>\n",
       "      <th>Fecha</th>\n",
       "      <th></th>\n",
       "      <th></th>\n",
       "    </tr>\n",
       "  </thead>\n",
       "  <tbody>\n",
       "    <tr>\n",
       "      <th>1995-07-21</th>\n",
       "      <td>4.924333</td>\n",
       "      <td>1.552087</td>\n",
       "    </tr>\n",
       "    <tr>\n",
       "      <th>1995-07-22</th>\n",
       "      <td>1.269500</td>\n",
       "      <td>1.552087</td>\n",
       "    </tr>\n",
       "    <tr>\n",
       "      <th>1995-07-23</th>\n",
       "      <td>0.953083</td>\n",
       "      <td>1.552087</td>\n",
       "    </tr>\n",
       "    <tr>\n",
       "      <th>1995-07-24</th>\n",
       "      <td>4.305917</td>\n",
       "      <td>1.552087</td>\n",
       "    </tr>\n",
       "    <tr>\n",
       "      <th>1995-07-25</th>\n",
       "      <td>1.149167</td>\n",
       "      <td>1.552087</td>\n",
       "    </tr>\n",
       "  </tbody>\n",
       "</table>\n",
       "</div>"
      ],
      "text/plain": [
       "            Precio diario  Precio mensual\n",
       "Fecha                                    \n",
       "1995-07-21       4.924333        1.552087\n",
       "1995-07-22       1.269500        1.552087\n",
       "1995-07-23       0.953083        1.552087\n",
       "1995-07-24       4.305917        1.552087\n",
       "1995-07-25       1.149167        1.552087"
      ]
     },
     "execution_count": 18,
     "metadata": {},
     "output_type": "execute_result"
    }
   ],
   "source": [
    "# Tranformación del indice a tipo fecha\n",
    "precios_df.index = pd.to_datetime(precios_df.index)\n",
    "\n",
    "# Cálculo del precio promedio por mes\n",
    "precios_df[\"Precio mensual\"] = precios_df.groupby(\n",
    "    [precios_df.index.year, precios_df.index.month]\n",
    ")[\"Precio diario\"].transform(\"mean\")\n",
    "\n",
    "precios_df.head()\n"
   ]
  },
  {
   "cell_type": "code",
   "execution_count": 19,
   "id": "9f7a43a9",
   "metadata": {},
   "outputs": [
    {
     "data": {
      "image/png": "[encoded data removed]",
      "text/plain": [
       "<Figure size 800x300 with 1 Axes>"
      ]
     },
     "metadata": {},
     "output_type": "display_data"
    }
   ],
   "source": [
    "# %%\n",
    "import os\n",
    "import matplotlib.pyplot as plt\n",
    "\n",
    "precios_df.plot(style=[\"gray\", \"k\"], figsize=(8, 3))\n",
    "plt.xticks(rotation=\"vertical\", fontsize=8)\n",
    "plt.yticks(fontsize=8)\n",
    "plt.gca().spines[\"left\"].set_color(\"gray\")\n",
    "plt.gca().spines[\"bottom\"].set_color(\"gray\")\n",
    "plt.gca().spines[\"top\"].set_visible(False)\n",
    "plt.gca().spines[\"right\"].set_visible(False)\n",
    "plt.legend(fontsize=8)\n",
    "\n",
    "if os.path.exists(\"../files/images\") is False:\n",
    "    os.makedirs(\"../files/images\")\n",
    "\n",
    "plt.savefig(\"../files/images/precios.png\", bbox_inches=\"tight\")\n",
    "\n",
    "plt.show()\n"
   ]
  }
 ],
 "metadata": {
  "kernelspec": {
   "display_name": ".venv",
   "language": "python",
   "name": "python3"
  },
  "language_info": {
   "codemirror_mode": {
    "name": "ipython",
    "version": 3
   },
   "file_extension": ".py",
   "mimetype": "text/x-python",
   "name": "python",
   "nbconvert_exporter": "python",
   "pygments_lexer": "ipython3",
   "version": "3.12.1"
  }
 },
 "nbformat": 4,
 "nbformat_minor": 5
}
